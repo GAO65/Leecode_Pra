{
  "nbformat": 4,
  "nbformat_minor": 0,
  "metadata": {
    "colab": {
      "provenance": [],
      "authorship_tag": "ABX9TyNuLN40HtB3q28AZHtjw76m",
      "include_colab_link": true
    },
    "kernelspec": {
      "name": "python3",
      "display_name": "Python 3"
    },
    "language_info": {
      "name": "python"
    }
  },
  "cells": [
    {
      "cell_type": "markdown",
      "metadata": {
        "id": "view-in-github",
        "colab_type": "text"
      },
      "source": [
        "<a href=\"https://colab.research.google.com/github/GAO65/Leecode_Pra/blob/main/chapter1_array/Leecode_GAO.ipynb\" target=\"_parent\"><img src=\"https://colab.research.google.com/assets/colab-badge.svg\" alt=\"Open In Colab\"/></a>"
      ]
    },
    {
      "cell_type": "code",
      "execution_count": 12,
      "metadata": {
        "colab": {
          "base_uri": "https://localhost:8080/"
        },
        "id": "0yyzI_Ra9eYx",
        "outputId": "13f7ba44-99e0-4d5f-8e36-881bde4760bd"
      },
      "outputs": [
        {
          "output_type": "stream",
          "name": "stdout",
          "text": [
            "[2, 7, 11, 15]\n",
            "0 1\n"
          ]
        }
      ],
      "source": [
        "# 01_sum\n",
        "nums = [2, 7, 11, 15]\n",
        "print(nums)\n",
        "targets = 9\n",
        "\n",
        "index1 = 0\n",
        "index2 = len(nums)-1\n",
        "# print(len(nums))\n",
        "while(nums[index1]+nums[index2]!=targets):\n",
        "  if nums[index1]+nums[index2]<targets:\n",
        "    index1 = index1 + 1\n",
        "  if nums[index1]+nums[index2]>targets:\n",
        "    index2 = index2 - 1\n",
        "  if index1 == index2:\n",
        "    print('wrong')\n",
        "\n",
        "print(index1, index2) \n",
        "        "
      ]
    }
  ]
}